{
 "cells": [
  {
   "cell_type": "code",
   "execution_count": 2,
   "id": "d211f0ce-6720-4711-b120-6ab470f563c6",
   "metadata": {},
   "outputs": [],
   "source": [
    "import pandas as pd"
   ]
  },
  {
   "cell_type": "code",
   "execution_count": 3,
   "id": "fe962dfc-9575-45fe-8404-7681442b514e",
   "metadata": {},
   "outputs": [],
   "source": [
    "df = pd.read_csv(\"laptops.csv\")\n",
    "#Load a data file named laptops.csv."
   ]
  },
  {
   "cell_type": "code",
   "execution_count": 4,
   "id": "d52330c5-3987-4618-b28e-f9139829231f",
   "metadata": {},
   "outputs": [
    {
     "name": "stdout",
     "output_type": "stream",
     "text": [
      "<class 'pandas.core.frame.DataFrame'>\n",
      "RangeIndex: 2160 entries, 0 to 2159\n",
      "Data columns (total 12 columns):\n",
      " #   Column        Non-Null Count  Dtype  \n",
      "---  ------        --------------  -----  \n",
      " 0   Laptop        2160 non-null   object \n",
      " 1   Status        2160 non-null   object \n",
      " 2   Brand         2160 non-null   object \n",
      " 3   Model         2160 non-null   object \n",
      " 4   CPU           2160 non-null   object \n",
      " 5   RAM           2160 non-null   int64  \n",
      " 6   Storage       2160 non-null   int64  \n",
      " 7   Storage type  2118 non-null   object \n",
      " 8   GPU           789 non-null    object \n",
      " 9   Screen        2156 non-null   float64\n",
      " 10  Touch         2160 non-null   object \n",
      " 11  Final Price   2160 non-null   float64\n",
      "dtypes: float64(2), int64(2), object(8)\n",
      "memory usage: 202.6+ KB\n",
      "None\n"
     ]
    }
   ],
   "source": [
    "print(df.info())\n",
    "# Get more information about the data set. also check whether there are null values"
   ]
  },
  {
   "cell_type": "code",
   "execution_count": 19,
   "id": "bf5d2b6a-fb1d-4b59-966a-40f7acde17bf",
   "metadata": {},
   "outputs": [
    {
     "name": "stdout",
     "output_type": "stream",
     "text": [
      "                                              Laptop Status   Brand  \\\n",
      "0  ASUS ExpertBook B1 B1502CBA-EJ0436X Intel Core...    New    Asus   \n",
      "1  Alurin Go Start Intel Celeron N4020/8GB/256GB ...    New  Alurin   \n",
      "2  ASUS ExpertBook B1 B1502CBA-EJ0424X Intel Core...    New    Asus   \n",
      "3  MSI Katana GF66 12UC-082XES Intel Core i7-1270...    New     MSI   \n",
      "4  HP 15S-FQ5085NS Intel Core i5-1235U/16GB/512GB...    New      HP   \n",
      "\n",
      "        Model            CPU  RAM  Storage Storage type       GPU  Screen  \\\n",
      "0  ExpertBook  Intel Core i5    8      512          SSD       NaN    15.6   \n",
      "1          Go  Intel Celeron    8      256          SSD       NaN    15.6   \n",
      "2  ExpertBook  Intel Core i3    8      256          SSD       NaN    15.6   \n",
      "3      Katana  Intel Core i7   16     1000          SSD  RTX 3050    15.6   \n",
      "4         15S  Intel Core i5   16      512          SSD       NaN    15.6   \n",
      "\n",
      "  Touch  Final Price  \n",
      "0    No      1009.00  \n",
      "1    No       299.00  \n",
      "2    No       789.00  \n",
      "3    No      1199.00  \n",
      "4    No       669.01  \n"
     ]
    }
   ],
   "source": [
    "print(df.head())\n",
    "#Get a quick overview of the DataFrame (First 5 rows)"
   ]
  },
  {
   "cell_type": "code",
   "execution_count": 7,
   "id": "61b243fe-08c1-496f-9387-db4e073fda47",
   "metadata": {},
   "outputs": [
    {
     "name": "stdout",
     "output_type": "stream",
     "text": [
      "The most expensive laptop is:\n",
      "Laptop          MSI Raider GE78HX 13VH-065ES Intel Core i9-139...\n",
      "Status                                                        New\n",
      "Brand                                                         MSI\n",
      "Model                                                      Raider\n",
      "CPU                                                 Intel Core i9\n",
      "RAM                                                            32\n",
      "Storage                                                      2000\n",
      "Storage type                                                  SSD\n",
      "GPU                                                      RTX 4080\n",
      "Screen                                                       17.0\n",
      "Touch                                                          No\n",
      "Final Price                                               7150.47\n",
      "Name: 1099, dtype: object\n"
     ]
    }
   ],
   "source": [
    "# Question 1. What is the most expensive laptop in the dataset?\n",
    "\n",
    "# Sort the DataFrame by the 'Final Price' column in descending order\n",
    "sorted_df = df.sort_values(by='Final Price', ascending=False)\n",
    "\n",
    "# Get the most expensive laptop (first row after sorting)\n",
    "most_expensive_laptop = sorted_df.iloc[0]\n",
    "\n",
    "print(\"The most expensive laptop is:\")\n",
    "print(most_expensive_laptop)"
   ]
  },
  {
   "cell_type": "code",
   "execution_count": 21,
   "id": "8935b3dc-63d8-4efa-a334-d628a1b41106",
   "metadata": {},
   "outputs": [
    {
     "name": "stdout",
     "output_type": "stream",
     "text": [
      "Brand with the largest variety of models: Asus\n"
     ]
    }
   ],
   "source": [
    "# Question 2. Which brand offers the largest variety of models in the dataset?\n",
    "\n",
    "# We use groupby to group the data by the \"Brand\" column, and then count the number of models for each brand\n",
    "brand_counts = df.groupby('Brand')['Model'].count()\n",
    "\n",
    "# To find the brand with the highest count (the brand with the largest variety of models)\n",
    "largest_variety_brand = brand_counts.idxmax()\n",
    "\n",
    "print(\"Brand with the largest variety of models:\", largest_variety_brand)"
   ]
  },
  {
   "cell_type": "code",
   "execution_count": 5,
   "id": "3eaf500f-270a-4a20-aaba-32e9bf0da4e8",
   "metadata": {},
   "outputs": [
    {
     "name": "stdout",
     "output_type": "stream",
     "text": [
      "Number of laptops with Intel Core i7 processor: 710\n"
     ]
    }
   ],
   "source": [
    "# Question 3. How many laptops in the dataset have an Intel Core i7 processor?\n",
    "\n",
    "# Filter laptops with Intel Core i7 processor\n",
    "intel_core_i7_laptops = df[df[\"CPU\"].str.contains(\"Intel Core i7\", case=False)]\n",
    "\n",
    "# Get the count of laptops with Intel Core i7 processor and print\n",
    "total_intel_core_i7_laptops = intel_core_i7_laptops.shape[0]\n",
    "print(\"Number of laptops with Intel Core i7 processor:\", total_intel_core_i7_laptops)\n"
   ]
  },
  {
   "cell_type": "code",
   "execution_count": 6,
   "id": "7fa79982-0f4c-4b3a-bdda-19fe8f9ea2b9",
   "metadata": {},
   "outputs": [
    {
     "name": "stdout",
     "output_type": "stream",
     "text": [
      "Laptop with the highest amount of RAM:\n",
      "Laptop          MSI Titan GT77 HX 13VI-006ES Intel Core i9-139...\n",
      "Status                                                        New\n",
      "Brand                                                         MSI\n",
      "Model                                                       Titan\n",
      "CPU                                                 Intel Core i9\n",
      "RAM                                                           128\n",
      "Storage                                                      2000\n",
      "Storage type                                                  SSD\n",
      "GPU                                                      RTX 4090\n",
      "Screen                                                       17.3\n",
      "Touch                                                          No\n",
      "Final Price                                                5999.0\n",
      "Name: 478, dtype: object\n"
     ]
    }
   ],
   "source": [
    "# Question 4. Which laptop has the highest amount of RAM?\n",
    "\n",
    "# Sort the DataFrame by the \"RAM\" column in descending order\n",
    "df_sorted_by_ram = df.sort_values(by=\"RAM\", ascending=False)\n",
    "\n",
    "# Select the first row, which will have the highest RAM value\n",
    "laptop_with_highest_ram = df_sorted_by_ram.iloc[0]\n",
    "\n",
    "# Print the laptop with the highest amount of RAM\n",
    "print(\"Laptop with the highest amount of RAM:\")\n",
    "print(laptop_with_highest_ram)"
   ]
  },
  {
   "cell_type": "code",
   "execution_count": 9,
   "id": "f376317c-4e24-45c2-aed2-d08de442cf52",
   "metadata": {},
   "outputs": [
    {
     "name": "stdout",
     "output_type": "stream",
     "text": [
      "The average storage capacity of the laptops in the dataset is 596.29 GB.\n"
     ]
    }
   ],
   "source": [
    "# Question 5. What is the average storage capacity (in GB) of the laptops in the dataset?\n",
    "\n",
    "# Calculate the average storage capacity in GB, we use mean() function\n",
    "average_storage_gb = df[\"Storage\"].mean()\n",
    "\n",
    "# Print the result as float with 2 decimal places\n",
    "print(f\"The average storage capacity of the laptops in the dataset is {average_storage_gb:.2f} GB.\")"
   ]
  },
  {
   "cell_type": "code",
   "execution_count": 12,
   "id": "a5dac53f-1deb-4d11-8291-1207b6ed5add",
   "metadata": {},
   "outputs": [
    {
     "name": "stdout",
     "output_type": "stream",
     "text": [
      "Number of laptops with touchscreen feature: 227\n"
     ]
    }
   ],
   "source": [
    "# Question 6. How many laptops in the dataset have a touchscreen feature?\n",
    "\n",
    "num_touchscreen_laptops = df['Touch'].value_counts().get('Yes', 0)\n",
    "print(\"Number of laptops with touchscreen feature:\", num_touchscreen_laptops)"
   ]
  },
  {
   "cell_type": "code",
   "execution_count": 18,
   "id": "299e070b-7a87-4464-8d91-497ea5fccece",
   "metadata": {},
   "outputs": [
    {
     "name": "stdout",
     "output_type": "stream",
     "text": [
      "The most affordable laptop(s) is/are offered by the brand(s): Thomson. With a minimum price of: 201.05\n"
     ]
    }
   ],
   "source": [
    "#Question 7. Which brand offers the most affordable laptop in terms of price?\n",
    "\n",
    "# Find the minimum final price in the dataset\n",
    "min_price = df['Final Price'].min()\n",
    "\n",
    "# Filter the DataFrame to get the rows with the minimum final price\n",
    "most_affordable_laptops = df[df['Final Price'] == min_price]\n",
    "\n",
    "# Get the brand(s) that offer the most affordable laptop(s)\n",
    "most_affordable_brands = most_affordable_laptops['Brand'].unique()\n",
    "\n",
    "# If there are multiple brands with the same minimum final price, we use a list comprehension to join them as a string\n",
    "most_affordable_brands_str = ', '.join(most_affordable_brands)\n",
    "\n",
    "# Print the result\n",
    "print(f\"The most affordable laptop(s) is/are offered by the brand(s): {most_affordable_brands_str}. With a minimum price of: {min_price}\")\n"
   ]
  },
  {
   "cell_type": "code",
   "execution_count": 20,
   "id": "648fb6c8-b3b9-4bfa-8c0c-611baf712a20",
   "metadata": {},
   "outputs": [
    {
     "name": "stdout",
     "output_type": "stream",
     "text": [
      "Screen\n",
      "15.60    1009\n",
      "14.00     392\n",
      "16.00     174\n",
      "17.30     161\n",
      "13.30     131\n",
      "16.10      48\n",
      "17.00      33\n",
      "13.00      27\n",
      "15.00      21\n",
      "13.40      19\n",
      "13.50      19\n",
      "11.60      16\n",
      "14.20      14\n",
      "12.30      13\n",
      "14.10      11\n",
      "13.60      11\n",
      "16.20      10\n",
      "15.30       8\n",
      "10.50       7\n",
      "12.40       6\n",
      "14.40       6\n",
      "15.40       5\n",
      "12.00       4\n",
      "18.00       3\n",
      "14.50       3\n",
      "13.90       2\n",
      "12.50       1\n",
      "10.95       1\n",
      "10.10       1\n",
      "Name: count, dtype: int64\n"
     ]
    }
   ],
   "source": [
    "#Question 8. What is the distribution of screen sizes among the laptops?\n",
    "\n",
    "#Get the distribution\n",
    "distribution = df['Screen'].value_counts()\n",
    "\n",
    "# Print the distribution\n",
    "print(distribution)"
   ]
  },
  {
   "cell_type": "code",
   "execution_count": null,
   "id": "d1fe3ac8-1a36-4a1d-a498-4dd755ca615c",
   "metadata": {},
   "outputs": [],
   "source": [
    "#Question 9. Which laptop has the best price-to-performance ratio, considering both the CPU and GPU?\n",
    "\n"
   ]
  },
  {
   "cell_type": "code",
   "execution_count": 6,
   "id": "73f06c19-337c-4e96-8f63-5872be6d8506",
   "metadata": {},
   "outputs": [
    {
     "name": "stdout",
     "output_type": "stream",
     "text": [
      "The average price of laptops with Intel Core i5 processor is $888.38\n"
     ]
    }
   ],
   "source": [
    "#Question 10. What is the average price of laptops with an Intel Core i5 processor?\n",
    "\n",
    "# Filter the DataFrame to include only rows with Intel Core i5 processor and ensure that case  is insensitive.\n",
    "i5_laptops = df[df['CPU'].str.contains('Intel Core i5', case=False, na=False)]\n",
    "\n",
    "# Calculate the average price of laptops with Intel Core i5 processor\n",
    "average_price_i5 = i5_laptops['Final Price'].mean()\n",
    "\n",
    "print(f\"The average price of laptops with Intel Core i5 processor is ${average_price_i5:.2f}\")\n"
   ]
  },
  {
   "cell_type": "code",
   "execution_count": 18,
   "id": "9c2dfe29-794a-45f5-a1af-cacacc778c3a",
   "metadata": {},
   "outputs": [
    {
     "name": "stdout",
     "output_type": "stream",
     "text": [
      "The number of laptops with a screen size of 15.6 inches is 1009.\n"
     ]
    }
   ],
   "source": [
    "#Question 11. How many laptops have a screen size of 15.6 inches?\n",
    "\n",
    "#Remember that data is float\n",
    "screen_size = df['Screen'].value_counts().get(15.6, 0)\n",
    "print(f\"The number of laptops with a screen size of 15.6 inches is {screen_size}.\")"
   ]
  },
  {
   "cell_type": "code",
   "execution_count": 21,
   "id": "ee625a31-e974-4528-89ab-35f6694ff5bf",
   "metadata": {},
   "outputs": [
    {
     "name": "stdout",
     "output_type": "stream",
     "text": [
      "The brand with the highest average price among laptops with touchscreens is MSI.\n",
      "The average price for laptops from this brand is 2697.43.\n"
     ]
    }
   ],
   "source": [
    "#Question 12. Among the laptops with touchscreens, which brand has the highest average price?\n",
    "\n",
    "#Filter laptops with touchscreens\n",
    "touchscreen_laptops = df[df['Touch'] == 'Yes']\n",
    "\n",
    "#Group by brand and calculate the average price\n",
    "average_price_by_brand = touchscreen_laptops.groupby('Brand')['Final Price'].mean()\n",
    "\n",
    "#Find the brand with the highest average price\n",
    "highest_average_price_brand = average_price_by_brand.idxmax()\n",
    "highest_average_price = average_price_by_brand.max()\n",
    "\n",
    "print(f\"The brand with the highest average price among laptops with touchscreens is {highest_average_price_brand}.\")\n",
    "print(f\"The average price for laptops from this brand is {highest_average_price:.2f}.\")\n"
   ]
  },
  {
   "cell_type": "code",
   "execution_count": null,
   "id": "011864ec-960c-442d-8c9e-883effcd760e",
   "metadata": {},
   "outputs": [],
   "source": []
  },
  {
   "cell_type": "code",
   "execution_count": null,
   "id": "d48c457b-8a05-4cf7-b0e3-5ee5ced3a77a",
   "metadata": {},
   "outputs": [],
   "source": []
  }
 ],
 "metadata": {
  "kernelspec": {
   "display_name": "Python 3 (ipykernel)",
   "language": "python",
   "name": "python3"
  },
  "language_info": {
   "codemirror_mode": {
    "name": "ipython",
    "version": 3
   },
   "file_extension": ".py",
   "mimetype": "text/x-python",
   "name": "python",
   "nbconvert_exporter": "python",
   "pygments_lexer": "ipython3",
   "version": "3.9.2"
  }
 },
 "nbformat": 4,
 "nbformat_minor": 5
}
