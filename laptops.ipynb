{
 "cells": [
  {
   "cell_type": "code",
   "execution_count": 1,
   "id": "d211f0ce-6720-4711-b120-6ab470f563c6",
   "metadata": {},
   "outputs": [],
   "source": [
    "import pandas as pd"
   ]
  },
  {
   "cell_type": "code",
   "execution_count": 16,
   "id": "fe962dfc-9575-45fe-8404-7681442b514e",
   "metadata": {},
   "outputs": [],
   "source": [
    "df = pd.read_csv(\"laptops.csv\")\n",
    "#Load a data file named laptops.csv."
   ]
  },
  {
   "cell_type": "code",
   "execution_count": 15,
   "id": "d52330c5-3987-4618-b28e-f9139829231f",
   "metadata": {},
   "outputs": [
    {
     "name": "stdout",
     "output_type": "stream",
     "text": [
      "<class 'pandas.core.frame.DataFrame'>\n",
      "RangeIndex: 2160 entries, 0 to 2159\n",
      "Data columns (total 12 columns):\n",
      " #   Column        Non-Null Count  Dtype  \n",
      "---  ------        --------------  -----  \n",
      " 0   Laptop        2160 non-null   object \n",
      " 1   Status        2160 non-null   object \n",
      " 2   Brand         2160 non-null   object \n",
      " 3   Model         2160 non-null   object \n",
      " 4   CPU           2160 non-null   object \n",
      " 5   RAM           2160 non-null   int64  \n",
      " 6   Storage       2160 non-null   int64  \n",
      " 7   Storage type  2118 non-null   object \n",
      " 8   GPU           789 non-null    object \n",
      " 9   Screen        2156 non-null   float64\n",
      " 10  Touch         2160 non-null   object \n",
      " 11  Final Price   2160 non-null   float64\n",
      "dtypes: float64(2), int64(2), object(8)\n",
      "memory usage: 202.6+ KB\n",
      "None\n"
     ]
    }
   ],
   "source": [
    "print(df.info())\n",
    "# Get more information about the data set"
   ]
  },
  {
   "cell_type": "code",
   "execution_count": 19,
   "id": "bf5d2b6a-fb1d-4b59-966a-40f7acde17bf",
   "metadata": {},
   "outputs": [
    {
     "name": "stdout",
     "output_type": "stream",
     "text": [
      "                                              Laptop Status   Brand  \\\n",
      "0  ASUS ExpertBook B1 B1502CBA-EJ0436X Intel Core...    New    Asus   \n",
      "1  Alurin Go Start Intel Celeron N4020/8GB/256GB ...    New  Alurin   \n",
      "2  ASUS ExpertBook B1 B1502CBA-EJ0424X Intel Core...    New    Asus   \n",
      "3  MSI Katana GF66 12UC-082XES Intel Core i7-1270...    New     MSI   \n",
      "4  HP 15S-FQ5085NS Intel Core i5-1235U/16GB/512GB...    New      HP   \n",
      "\n",
      "        Model            CPU  RAM  Storage Storage type       GPU  Screen  \\\n",
      "0  ExpertBook  Intel Core i5    8      512          SSD       NaN    15.6   \n",
      "1          Go  Intel Celeron    8      256          SSD       NaN    15.6   \n",
      "2  ExpertBook  Intel Core i3    8      256          SSD       NaN    15.6   \n",
      "3      Katana  Intel Core i7   16     1000          SSD  RTX 3050    15.6   \n",
      "4         15S  Intel Core i5   16      512          SSD       NaN    15.6   \n",
      "\n",
      "  Touch  Final Price  \n",
      "0    No      1009.00  \n",
      "1    No       299.00  \n",
      "2    No       789.00  \n",
      "3    No      1199.00  \n",
      "4    No       669.01  \n"
     ]
    }
   ],
   "source": [
    "print(df.head())\n",
    "#Get a quick overview of the DataFrame (First 5 rows)"
   ]
  },
  {
   "cell_type": "code",
   "execution_count": null,
   "id": "c62bbc3d-c1c8-4110-a3b1-1648f50688fa",
   "metadata": {},
   "outputs": [],
   "source": []
  }
 ],
 "metadata": {
  "kernelspec": {
   "display_name": "Python 3 (ipykernel)",
   "language": "python",
   "name": "python3"
  },
  "language_info": {
   "codemirror_mode": {
    "name": "ipython",
    "version": 3
   },
   "file_extension": ".py",
   "mimetype": "text/x-python",
   "name": "python",
   "nbconvert_exporter": "python",
   "pygments_lexer": "ipython3",
   "version": "3.9.2"
  }
 },
 "nbformat": 4,
 "nbformat_minor": 5
}
