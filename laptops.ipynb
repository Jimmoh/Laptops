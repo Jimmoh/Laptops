{
 "cells": [
  {
   "cell_type": "markdown",
   "id": "e7f35946-e32f-4c38-94ac-851208c3b3a3",
   "metadata": {},
   "source": [
    "# Project Description"
   ]
  },
  {
   "cell_type": "code",
   "execution_count": null,
   "id": "f03389d1-cbd5-4ea9-94fc-72ebdfd3a44c",
   "metadata": {},
   "outputs": [],
   "source": []
  },
  {
   "cell_type": "code",
   "execution_count": 23,
   "id": "d211f0ce-6720-4711-b120-6ab470f563c6",
   "metadata": {},
   "outputs": [],
   "source": [
    "import pandas as pd\n",
    "import numpy as np"
   ]
  },
  {
   "cell_type": "code",
   "execution_count": 2,
   "id": "fe962dfc-9575-45fe-8404-7681442b514e",
   "metadata": {},
   "outputs": [],
   "source": [
    "#Load a data file named laptops.csv.\n",
    "df = pd.read_csv(\"laptops.csv\")"
   ]
  },
  {
   "cell_type": "code",
   "execution_count": 42,
   "id": "d52330c5-3987-4618-b28e-f9139829231f",
   "metadata": {},
   "outputs": [
    {
     "name": "stdout",
     "output_type": "stream",
     "text": [
      "<class 'pandas.core.frame.DataFrame'>\n",
      "RangeIndex: 2160 entries, 0 to 2159\n",
      "Data columns (total 12 columns):\n",
      " #   Column        Non-Null Count  Dtype  \n",
      "---  ------        --------------  -----  \n",
      " 0   Laptop        2160 non-null   object \n",
      " 1   Status        2160 non-null   object \n",
      " 2   Brand         2160 non-null   object \n",
      " 3   Model         2160 non-null   object \n",
      " 4   CPU           2160 non-null   object \n",
      " 5   RAM           2160 non-null   int64  \n",
      " 6   Storage       2160 non-null   int64  \n",
      " 7   Storage type  2118 non-null   object \n",
      " 8   GPU           789 non-null    object \n",
      " 9   Screen        2156 non-null   float64\n",
      " 10  Touch         2160 non-null   object \n",
      " 11  Final Price   2160 non-null   float64\n",
      "dtypes: float64(2), int64(2), object(8)\n",
      "memory usage: 202.6+ KB\n"
     ]
    }
   ],
   "source": [
    "# Get more information about the data set. also check whether there are null values\n",
    "df.info()\n"
   ]
  },
  {
   "cell_type": "code",
   "execution_count": 43,
   "id": "e3c9e0a0-f9e0-4c60-9226-2a8b168232a8",
   "metadata": {},
   "outputs": [
    {
     "data": {
      "text/plain": [
       "Laptop             0\n",
       "Status             0\n",
       "Brand              0\n",
       "Model              0\n",
       "CPU                0\n",
       "RAM                0\n",
       "Storage            0\n",
       "Storage type      42\n",
       "GPU             1371\n",
       "Screen             4\n",
       "Touch              0\n",
       "Final Price        0\n",
       "dtype: int64"
      ]
     },
     "execution_count": 43,
     "metadata": {},
     "output_type": "execute_result"
    }
   ],
   "source": [
    "df.isnull().sum()"
   ]
  },
  {
   "cell_type": "code",
   "execution_count": 44,
   "id": "bf5d2b6a-fb1d-4b59-966a-40f7acde17bf",
   "metadata": {},
   "outputs": [
    {
     "data": {
      "text/html": [
       "<div>\n",
       "<style scoped>\n",
       "    .dataframe tbody tr th:only-of-type {\n",
       "        vertical-align: middle;\n",
       "    }\n",
       "\n",
       "    .dataframe tbody tr th {\n",
       "        vertical-align: top;\n",
       "    }\n",
       "\n",
       "    .dataframe thead th {\n",
       "        text-align: right;\n",
       "    }\n",
       "</style>\n",
       "<table border=\"1\" class=\"dataframe\">\n",
       "  <thead>\n",
       "    <tr style=\"text-align: right;\">\n",
       "      <th></th>\n",
       "      <th>Laptop</th>\n",
       "      <th>Status</th>\n",
       "      <th>Brand</th>\n",
       "      <th>Model</th>\n",
       "      <th>CPU</th>\n",
       "      <th>RAM</th>\n",
       "      <th>Storage</th>\n",
       "      <th>Storage type</th>\n",
       "      <th>GPU</th>\n",
       "      <th>Screen</th>\n",
       "      <th>Touch</th>\n",
       "      <th>Final Price</th>\n",
       "    </tr>\n",
       "  </thead>\n",
       "  <tbody>\n",
       "    <tr>\n",
       "      <th>0</th>\n",
       "      <td>ASUS ExpertBook B1 B1502CBA-EJ0436X Intel Core...</td>\n",
       "      <td>New</td>\n",
       "      <td>Asus</td>\n",
       "      <td>ExpertBook</td>\n",
       "      <td>Intel Core i5</td>\n",
       "      <td>8</td>\n",
       "      <td>512</td>\n",
       "      <td>SSD</td>\n",
       "      <td>NaN</td>\n",
       "      <td>15.6</td>\n",
       "      <td>No</td>\n",
       "      <td>1009.00</td>\n",
       "    </tr>\n",
       "    <tr>\n",
       "      <th>1</th>\n",
       "      <td>Alurin Go Start Intel Celeron N4020/8GB/256GB ...</td>\n",
       "      <td>New</td>\n",
       "      <td>Alurin</td>\n",
       "      <td>Go</td>\n",
       "      <td>Intel Celeron</td>\n",
       "      <td>8</td>\n",
       "      <td>256</td>\n",
       "      <td>SSD</td>\n",
       "      <td>NaN</td>\n",
       "      <td>15.6</td>\n",
       "      <td>No</td>\n",
       "      <td>299.00</td>\n",
       "    </tr>\n",
       "    <tr>\n",
       "      <th>2</th>\n",
       "      <td>ASUS ExpertBook B1 B1502CBA-EJ0424X Intel Core...</td>\n",
       "      <td>New</td>\n",
       "      <td>Asus</td>\n",
       "      <td>ExpertBook</td>\n",
       "      <td>Intel Core i3</td>\n",
       "      <td>8</td>\n",
       "      <td>256</td>\n",
       "      <td>SSD</td>\n",
       "      <td>NaN</td>\n",
       "      <td>15.6</td>\n",
       "      <td>No</td>\n",
       "      <td>789.00</td>\n",
       "    </tr>\n",
       "    <tr>\n",
       "      <th>3</th>\n",
       "      <td>MSI Katana GF66 12UC-082XES Intel Core i7-1270...</td>\n",
       "      <td>New</td>\n",
       "      <td>MSI</td>\n",
       "      <td>Katana</td>\n",
       "      <td>Intel Core i7</td>\n",
       "      <td>16</td>\n",
       "      <td>1000</td>\n",
       "      <td>SSD</td>\n",
       "      <td>RTX 3050</td>\n",
       "      <td>15.6</td>\n",
       "      <td>No</td>\n",
       "      <td>1199.00</td>\n",
       "    </tr>\n",
       "    <tr>\n",
       "      <th>4</th>\n",
       "      <td>HP 15S-FQ5085NS Intel Core i5-1235U/16GB/512GB...</td>\n",
       "      <td>New</td>\n",
       "      <td>HP</td>\n",
       "      <td>15S</td>\n",
       "      <td>Intel Core i5</td>\n",
       "      <td>16</td>\n",
       "      <td>512</td>\n",
       "      <td>SSD</td>\n",
       "      <td>NaN</td>\n",
       "      <td>15.6</td>\n",
       "      <td>No</td>\n",
       "      <td>669.01</td>\n",
       "    </tr>\n",
       "  </tbody>\n",
       "</table>\n",
       "</div>"
      ],
      "text/plain": [
       "                                              Laptop Status   Brand  \\\n",
       "0  ASUS ExpertBook B1 B1502CBA-EJ0436X Intel Core...    New    Asus   \n",
       "1  Alurin Go Start Intel Celeron N4020/8GB/256GB ...    New  Alurin   \n",
       "2  ASUS ExpertBook B1 B1502CBA-EJ0424X Intel Core...    New    Asus   \n",
       "3  MSI Katana GF66 12UC-082XES Intel Core i7-1270...    New     MSI   \n",
       "4  HP 15S-FQ5085NS Intel Core i5-1235U/16GB/512GB...    New      HP   \n",
       "\n",
       "        Model            CPU  RAM  Storage Storage type       GPU  Screen  \\\n",
       "0  ExpertBook  Intel Core i5    8      512          SSD       NaN    15.6   \n",
       "1          Go  Intel Celeron    8      256          SSD       NaN    15.6   \n",
       "2  ExpertBook  Intel Core i3    8      256          SSD       NaN    15.6   \n",
       "3      Katana  Intel Core i7   16     1000          SSD  RTX 3050    15.6   \n",
       "4         15S  Intel Core i5   16      512          SSD       NaN    15.6   \n",
       "\n",
       "  Touch  Final Price  \n",
       "0    No      1009.00  \n",
       "1    No       299.00  \n",
       "2    No       789.00  \n",
       "3    No      1199.00  \n",
       "4    No       669.01  "
      ]
     },
     "execution_count": 44,
     "metadata": {},
     "output_type": "execute_result"
    }
   ],
   "source": [
    "#Get a quick overview of the DataFrame (First 5 rows)\n",
    "df.head()"
   ]
  },
  {
   "cell_type": "markdown",
   "id": "19a519af-a7b2-4ba5-b397-1ca537cff52a",
   "metadata": {},
   "source": [
    "## Question 1. What is the most expensive laptop in the dataset?"
   ]
  },
  {
   "cell_type": "code",
   "execution_count": 5,
   "id": "61b243fe-08c1-496f-9387-db4e073fda47",
   "metadata": {},
   "outputs": [
    {
     "name": "stdout",
     "output_type": "stream",
     "text": [
      "The most expensive laptop is:\n",
      "Laptop          MSI Raider GE78HX 13VH-065ES Intel Core i9-139...\n",
      "Status                                                        New\n",
      "Brand                                                         MSI\n",
      "Model                                                      Raider\n",
      "CPU                                                 Intel Core i9\n",
      "RAM                                                            32\n",
      "Storage                                                      2000\n",
      "Storage type                                                  SSD\n",
      "GPU                                                      RTX 4080\n",
      "Screen                                                       17.0\n",
      "Touch                                                          No\n",
      "Final Price                                               7150.47\n",
      "Name: 1099, dtype: object\n"
     ]
    }
   ],
   "source": [
    "# Sort the DataFrame by the 'Final Price' column in descending order\n",
    "sorted_df = df.sort_values(by='Final Price', ascending=False)\n",
    "\n",
    "# Get the most expensive laptop (first row after sorting)\n",
    "most_expensive_laptop = sorted_df.iloc[0]\n",
    "\n",
    "print(\"The most expensive laptop is:\")\n",
    "print(most_expensive_laptop)"
   ]
  },
  {
   "cell_type": "markdown",
   "id": "280d4059-7152-4079-ad55-404af73030e8",
   "metadata": {},
   "source": [
    "**Observation**:\n",
    "- The most expensive laptop is MSI Raider GE78HX 13VH-065ES Intel Core i9-139"
   ]
  },
  {
   "cell_type": "code",
   "execution_count": 9,
   "id": "8935b3dc-63d8-4efa-a334-d628a1b41106",
   "metadata": {},
   "outputs": [
    {
     "name": "stdout",
     "output_type": "stream",
     "text": [
      "Brand with the largest variety of models: Asus\n",
      "Number of models in Asus are 20\n"
     ]
    }
   ],
   "source": [
    "# Question 2. Which brand offers the largest variety of models in the dataset?\n",
    "\n",
    "# We use groupby to group the data by the \"Brand\" column, and then count the number of models for each brand\n",
    "brand_counts = df.groupby('Brand')['Model'].nunique()\n",
    "\n",
    "# To find the brand with the highest count (the brand with the largest variety of models)\n",
    "largest_variety_brand = brand_counts.idxmax()\n",
    "num_models = brand_counts.reset_index()[\"Model\"].max()\n",
    "\n",
    "print(\"Brand with the largest variety of models:\", largest_variety_brand)\n",
    "print(f\"Number of models in {largest_variety_brand} are {num_models}\")"
   ]
  },
  {
   "cell_type": "code",
   "execution_count": 11,
   "id": "3eaf500f-270a-4a20-aaba-32e9bf0da4e8",
   "metadata": {},
   "outputs": [
    {
     "name": "stdout",
     "output_type": "stream",
     "text": [
      "Number of laptops with Intel Core i7 processor: 710\n"
     ]
    }
   ],
   "source": [
    "# Question 3. How many laptops in the dataset have an Intel Core i7 processor?\n",
    "\n",
    "# Filter laptops with Intel Core i7 processor\n",
    "intel_core_i7_laptops = df[df[\"CPU\"].str.contains(\"Intel Core i7\", case=False)]\n",
    "\n",
    "# Get the count of laptops with Intel Core i7 processor and print\n",
    "total_intel_core_i7_laptops = intel_core_i7_laptops.shape[0]\n",
    "print(\"Number of laptops with Intel Core i7 processor:\", total_intel_core_i7_laptops)\n"
   ]
  },
  {
   "cell_type": "code",
   "execution_count": 12,
   "id": "54ea9f41-7c64-4e29-9e7c-c8050747a4c3",
   "metadata": {},
   "outputs": [
    {
     "data": {
      "text/plain": [
       "710"
      ]
     },
     "execution_count": 12,
     "metadata": {},
     "output_type": "execute_result"
    }
   ],
   "source": [
    "len(intel_core_i7_laptops)"
   ]
  },
  {
   "cell_type": "code",
   "execution_count": 13,
   "id": "7fa79982-0f4c-4b3a-bdda-19fe8f9ea2b9",
   "metadata": {},
   "outputs": [
    {
     "name": "stdout",
     "output_type": "stream",
     "text": [
      "Laptop with the highest amount of RAM:\n"
     ]
    },
    {
     "data": {
      "text/plain": [
       "Laptop          MSI Titan GT77 HX 13VI-006ES Intel Core i9-139...\n",
       "Status                                                        New\n",
       "Brand                                                         MSI\n",
       "Model                                                       Titan\n",
       "CPU                                                 Intel Core i9\n",
       "RAM                                                           128\n",
       "Storage                                                      2000\n",
       "Storage type                                                  SSD\n",
       "GPU                                                      RTX 4090\n",
       "Screen                                                       17.3\n",
       "Touch                                                          No\n",
       "Final Price                                                5999.0\n",
       "Name: 478, dtype: object"
      ]
     },
     "execution_count": 13,
     "metadata": {},
     "output_type": "execute_result"
    }
   ],
   "source": [
    "# Question 4. Which laptop has the highest amount of RAM?\n",
    "\n",
    "# Sort the DataFrame by the \"RAM\" column in descending order\n",
    "df_sorted_by_ram = df.sort_values(by=\"RAM\", ascending=False)\n",
    "\n",
    "# Select the first row, which will have the highest RAM value\n",
    "laptop_with_highest_ram = df_sorted_by_ram.iloc[0]\n",
    "\n",
    "# Print the laptop with the highest amount of RAM\n",
    "print(\"Laptop with the highest amount of RAM:\")\n",
    "laptop_with_highest_ram"
   ]
  },
  {
   "cell_type": "code",
   "execution_count": 20,
   "id": "f376317c-4e24-45c2-aed2-d08de442cf52",
   "metadata": {},
   "outputs": [
    {
     "name": "stdout",
     "output_type": "stream",
     "text": [
      "The average storage capacity of the laptops in the dataset is 596.29 GB.\n",
      "The maximum storage capacity of the laptops in the dataset is 4000.00 GB.\n",
      "The minimum storage capacity of the laptops in the dataset is 0.00 GB.\n"
     ]
    },
    {
     "data": {
      "text/html": [
       "<div>\n",
       "<style scoped>\n",
       "    .dataframe tbody tr th:only-of-type {\n",
       "        vertical-align: middle;\n",
       "    }\n",
       "\n",
       "    .dataframe tbody tr th {\n",
       "        vertical-align: top;\n",
       "    }\n",
       "\n",
       "    .dataframe thead th {\n",
       "        text-align: right;\n",
       "    }\n",
       "</style>\n",
       "<table border=\"1\" class=\"dataframe\">\n",
       "  <thead>\n",
       "    <tr style=\"text-align: right;\">\n",
       "      <th></th>\n",
       "      <th>Laptop</th>\n",
       "      <th>Status</th>\n",
       "      <th>Brand</th>\n",
       "      <th>Model</th>\n",
       "      <th>CPU</th>\n",
       "      <th>RAM</th>\n",
       "      <th>Storage</th>\n",
       "      <th>Storage type</th>\n",
       "      <th>GPU</th>\n",
       "      <th>Screen</th>\n",
       "      <th>Touch</th>\n",
       "      <th>Final Price</th>\n",
       "    </tr>\n",
       "  </thead>\n",
       "  <tbody>\n",
       "    <tr>\n",
       "      <th>189</th>\n",
       "      <td>Portátil Alurin Flex Advance Intel Core I5-115...</td>\n",
       "      <td>Refurbished</td>\n",
       "      <td>Alurin</td>\n",
       "      <td>Flex Advance</td>\n",
       "      <td>Intel Core i5</td>\n",
       "      <td>8</td>\n",
       "      <td>0</td>\n",
       "      <td>NaN</td>\n",
       "      <td>NaN</td>\n",
       "      <td>14.0</td>\n",
       "      <td>No</td>\n",
       "      <td>368.7</td>\n",
       "    </tr>\n",
       "  </tbody>\n",
       "</table>\n",
       "</div>"
      ],
      "text/plain": [
       "                                                Laptop       Status   Brand  \\\n",
       "189  Portátil Alurin Flex Advance Intel Core I5-115...  Refurbished  Alurin   \n",
       "\n",
       "            Model            CPU  RAM  Storage Storage type  GPU  Screen  \\\n",
       "189  Flex Advance  Intel Core i5    8        0          NaN  NaN    14.0   \n",
       "\n",
       "    Touch  Final Price  \n",
       "189    No        368.7  "
      ]
     },
     "execution_count": 20,
     "metadata": {},
     "output_type": "execute_result"
    }
   ],
   "source": [
    "# Question 5. What is the average storage capacity (in GB) of the laptops in the dataset?\n",
    "\n",
    "# Calculate the average storage capacity in GB, we use mean() function\n",
    "average_storage_gb = df[\"Storage\"].mean()\n",
    "max_storage_gb = df[\"Storage\"].max()\n",
    "min_storage_gb = df[\"Storage\"].min()\n",
    "\n",
    "# Print the result as float with 2 decimal places\n",
    "print(f\"The average storage capacity of the laptops in the dataset is {average_storage_gb:.2f} GB.\")\n",
    "print(f\"The maximum storage capacity of the laptops in the dataset is {max_storage_gb:.2f} GB.\")\n",
    "print(f\"The minimum storage capacity of the laptops in the dataset is {min_storage_gb:.2f} GB.\")\n",
    "\n",
    "min_storage_df = df[df[\"Storage\"]== min_storage_gb]\n",
    "min_storage_df.head()"
   ]
  },
  {
   "cell_type": "code",
   "execution_count": 22,
   "id": "a5dac53f-1deb-4d11-8291-1207b6ed5add",
   "metadata": {},
   "outputs": [
    {
     "name": "stdout",
     "output_type": "stream",
     "text": [
      "Number of laptops with touchscreen feature: 227\n"
     ]
    }
   ],
   "source": [
    "# Question 6. How many laptops in the dataset have a touchscreen feature?\n",
    "\n",
    "num_touchscreen_laptops = df['Touch'].value_counts().get('Yes', 0)\n",
    "print(\"Number of laptops with touchscreen feature:\", num_touchscreen_laptops)"
   ]
  },
  {
   "cell_type": "code",
   "execution_count": 26,
   "id": "72a14f4d-e113-47ea-8380-5f34fa18499c",
   "metadata": {},
   "outputs": [
    {
     "data": {
      "text/html": [
       "<div>\n",
       "<style scoped>\n",
       "    .dataframe tbody tr th:only-of-type {\n",
       "        vertical-align: middle;\n",
       "    }\n",
       "\n",
       "    .dataframe tbody tr th {\n",
       "        vertical-align: top;\n",
       "    }\n",
       "\n",
       "    .dataframe thead th {\n",
       "        text-align: right;\n",
       "    }\n",
       "</style>\n",
       "<table border=\"1\" class=\"dataframe\">\n",
       "  <thead>\n",
       "    <tr style=\"text-align: right;\">\n",
       "      <th></th>\n",
       "      <th>Brand</th>\n",
       "      <th>mean_price</th>\n",
       "      <th>median_price</th>\n",
       "    </tr>\n",
       "  </thead>\n",
       "  <tbody>\n",
       "    <tr>\n",
       "      <th>20</th>\n",
       "      <td>Prixton</td>\n",
       "      <td>292.280000</td>\n",
       "      <td>299.940</td>\n",
       "    </tr>\n",
       "    <tr>\n",
       "      <th>24</th>\n",
       "      <td>Thomson</td>\n",
       "      <td>316.860000</td>\n",
       "      <td>314.915</td>\n",
       "    </tr>\n",
       "    <tr>\n",
       "      <th>6</th>\n",
       "      <td>Denver</td>\n",
       "      <td>329.950000</td>\n",
       "      <td>329.950</td>\n",
       "    </tr>\n",
       "    <tr>\n",
       "      <th>19</th>\n",
       "      <td>Primux</td>\n",
       "      <td>339.618750</td>\n",
       "      <td>311.115</td>\n",
       "    </tr>\n",
       "    <tr>\n",
       "      <th>10</th>\n",
       "      <td>Innjoo</td>\n",
       "      <td>347.888333</td>\n",
       "      <td>350.315</td>\n",
       "    </tr>\n",
       "    <tr>\n",
       "      <th>11</th>\n",
       "      <td>Jetwing</td>\n",
       "      <td>469.270000</td>\n",
       "      <td>469.270</td>\n",
       "    </tr>\n",
       "    <tr>\n",
       "      <th>1</th>\n",
       "      <td>Alurin</td>\n",
       "      <td>484.701379</td>\n",
       "      <td>499.000</td>\n",
       "    </tr>\n",
       "    <tr>\n",
       "      <th>25</th>\n",
       "      <td>Toshiba</td>\n",
       "      <td>799.000000</td>\n",
       "      <td>799.000</td>\n",
       "    </tr>\n",
       "    <tr>\n",
       "      <th>15</th>\n",
       "      <td>Medion</td>\n",
       "      <td>905.331875</td>\n",
       "      <td>546.310</td>\n",
       "    </tr>\n",
       "    <tr>\n",
       "      <th>9</th>\n",
       "      <td>HP</td>\n",
       "      <td>952.628478</td>\n",
       "      <td>727.950</td>\n",
       "    </tr>\n",
       "    <tr>\n",
       "      <th>22</th>\n",
       "      <td>Realme</td>\n",
       "      <td>999.000000</td>\n",
       "      <td>999.000</td>\n",
       "    </tr>\n",
       "    <tr>\n",
       "      <th>7</th>\n",
       "      <td>Dynabook Toshiba</td>\n",
       "      <td>999.197895</td>\n",
       "      <td>889.000</td>\n",
       "    </tr>\n",
       "    <tr>\n",
       "      <th>0</th>\n",
       "      <td>Acer</td>\n",
       "      <td>1001.285766</td>\n",
       "      <td>729.000</td>\n",
       "    </tr>\n",
       "    <tr>\n",
       "      <th>26</th>\n",
       "      <td>Vant</td>\n",
       "      <td>1047.455455</td>\n",
       "      <td>1123.000</td>\n",
       "    </tr>\n",
       "    <tr>\n",
       "      <th>13</th>\n",
       "      <td>Lenovo</td>\n",
       "      <td>1087.723880</td>\n",
       "      <td>888.040</td>\n",
       "    </tr>\n",
       "    <tr>\n",
       "      <th>5</th>\n",
       "      <td>Dell</td>\n",
       "      <td>1153.839881</td>\n",
       "      <td>1003.000</td>\n",
       "    </tr>\n",
       "    <tr>\n",
       "      <th>3</th>\n",
       "      <td>Asus</td>\n",
       "      <td>1269.380699</td>\n",
       "      <td>901.990</td>\n",
       "    </tr>\n",
       "    <tr>\n",
       "      <th>4</th>\n",
       "      <td>Deep Gaming</td>\n",
       "      <td>1505.377500</td>\n",
       "      <td>1511.000</td>\n",
       "    </tr>\n",
       "    <tr>\n",
       "      <th>2</th>\n",
       "      <td>Apple</td>\n",
       "      <td>1578.227672</td>\n",
       "      <td>1491.330</td>\n",
       "    </tr>\n",
       "    <tr>\n",
       "      <th>23</th>\n",
       "      <td>Samsung</td>\n",
       "      <td>1595.511364</td>\n",
       "      <td>1580.000</td>\n",
       "    </tr>\n",
       "    <tr>\n",
       "      <th>16</th>\n",
       "      <td>Microsoft</td>\n",
       "      <td>1595.543247</td>\n",
       "      <td>1576.270</td>\n",
       "    </tr>\n",
       "    <tr>\n",
       "      <th>18</th>\n",
       "      <td>PcCom</td>\n",
       "      <td>1606.762917</td>\n",
       "      <td>1624.450</td>\n",
       "    </tr>\n",
       "    <tr>\n",
       "      <th>8</th>\n",
       "      <td>Gigabyte</td>\n",
       "      <td>1698.488958</td>\n",
       "      <td>1555.255</td>\n",
       "    </tr>\n",
       "    <tr>\n",
       "      <th>12</th>\n",
       "      <td>LG</td>\n",
       "      <td>1730.028438</td>\n",
       "      <td>1814.010</td>\n",
       "    </tr>\n",
       "    <tr>\n",
       "      <th>14</th>\n",
       "      <td>MSI</td>\n",
       "      <td>1913.451006</td>\n",
       "      <td>1703.985</td>\n",
       "    </tr>\n",
       "    <tr>\n",
       "      <th>17</th>\n",
       "      <td>Millenium</td>\n",
       "      <td>1976.845000</td>\n",
       "      <td>1976.845</td>\n",
       "    </tr>\n",
       "    <tr>\n",
       "      <th>21</th>\n",
       "      <td>Razer</td>\n",
       "      <td>3265.701622</td>\n",
       "      <td>3299.990</td>\n",
       "    </tr>\n",
       "  </tbody>\n",
       "</table>\n",
       "</div>"
      ],
      "text/plain": [
       "               Brand   mean_price  median_price\n",
       "20           Prixton   292.280000       299.940\n",
       "24           Thomson   316.860000       314.915\n",
       "6             Denver   329.950000       329.950\n",
       "19            Primux   339.618750       311.115\n",
       "10            Innjoo   347.888333       350.315\n",
       "11           Jetwing   469.270000       469.270\n",
       "1             Alurin   484.701379       499.000\n",
       "25           Toshiba   799.000000       799.000\n",
       "15            Medion   905.331875       546.310\n",
       "9                 HP   952.628478       727.950\n",
       "22            Realme   999.000000       999.000\n",
       "7   Dynabook Toshiba   999.197895       889.000\n",
       "0               Acer  1001.285766       729.000\n",
       "26              Vant  1047.455455      1123.000\n",
       "13            Lenovo  1087.723880       888.040\n",
       "5               Dell  1153.839881      1003.000\n",
       "3               Asus  1269.380699       901.990\n",
       "4        Deep Gaming  1505.377500      1511.000\n",
       "2              Apple  1578.227672      1491.330\n",
       "23           Samsung  1595.511364      1580.000\n",
       "16         Microsoft  1595.543247      1576.270\n",
       "18             PcCom  1606.762917      1624.450\n",
       "8           Gigabyte  1698.488958      1555.255\n",
       "12                LG  1730.028438      1814.010\n",
       "14               MSI  1913.451006      1703.985\n",
       "17         Millenium  1976.845000      1976.845\n",
       "21             Razer  3265.701622      3299.990"
      ]
     },
     "execution_count": 26,
     "metadata": {},
     "output_type": "execute_result"
    }
   ],
   "source": [
    "#Question 7. Which brand offers the most affordable laptop in terms of price?\n",
    "\n",
    "affordable_laptops_df = df.groupby(\"Brand\").agg(\n",
    "                        mean_price = (\"Final Price\",np.mean),\n",
    "                        median_price = (\"Final Price\",np.median)\n",
    "                        ).reset_index()\n",
    "affordable_laptops_df.sort_values(\"mean_price\", ascending = True)"
   ]
  },
  {
   "cell_type": "code",
   "execution_count": 20,
   "id": "648fb6c8-b3b9-4bfa-8c0c-611baf712a20",
   "metadata": {},
   "outputs": [
    {
     "name": "stdout",
     "output_type": "stream",
     "text": [
      "Screen\n",
      "15.60    1009\n",
      "14.00     392\n",
      "16.00     174\n",
      "17.30     161\n",
      "13.30     131\n",
      "16.10      48\n",
      "17.00      33\n",
      "13.00      27\n",
      "15.00      21\n",
      "13.40      19\n",
      "13.50      19\n",
      "11.60      16\n",
      "14.20      14\n",
      "12.30      13\n",
      "14.10      11\n",
      "13.60      11\n",
      "16.20      10\n",
      "15.30       8\n",
      "10.50       7\n",
      "12.40       6\n",
      "14.40       6\n",
      "15.40       5\n",
      "12.00       4\n",
      "18.00       3\n",
      "14.50       3\n",
      "13.90       2\n",
      "12.50       1\n",
      "10.95       1\n",
      "10.10       1\n",
      "Name: count, dtype: int64\n"
     ]
    }
   ],
   "source": [
    "#Question 8. What is the distribution of screen sizes among the laptops?\n",
    "\n",
    "#Get the distribution\n",
    "distribution = df['Screen'].value_counts()\n",
    "\n",
    "# Print the distribution\n",
    "print(distribution)"
   ]
  },
  {
   "cell_type": "code",
   "execution_count": 39,
   "id": "d1fe3ac8-1a36-4a1d-a498-4dd755ca615c",
   "metadata": {},
   "outputs": [
    {
     "data": {
      "text/html": [
       "<div>\n",
       "<style scoped>\n",
       "    .dataframe tbody tr th:only-of-type {\n",
       "        vertical-align: middle;\n",
       "    }\n",
       "\n",
       "    .dataframe tbody tr th {\n",
       "        vertical-align: top;\n",
       "    }\n",
       "\n",
       "    .dataframe thead th {\n",
       "        text-align: right;\n",
       "    }\n",
       "</style>\n",
       "<table border=\"1\" class=\"dataframe\">\n",
       "  <thead>\n",
       "    <tr style=\"text-align: right;\">\n",
       "      <th></th>\n",
       "      <th>Laptop</th>\n",
       "      <th>Status</th>\n",
       "      <th>Brand</th>\n",
       "      <th>Model</th>\n",
       "      <th>CPU</th>\n",
       "      <th>RAM</th>\n",
       "      <th>Storage</th>\n",
       "      <th>Storage type</th>\n",
       "      <th>GPU</th>\n",
       "      <th>Screen</th>\n",
       "      <th>Touch</th>\n",
       "      <th>Final Price</th>\n",
       "    </tr>\n",
       "  </thead>\n",
       "  <tbody>\n",
       "    <tr>\n",
       "      <th>998</th>\n",
       "      <td>Acer Nitro 5 AN517-54-9875 Intel Core i9-11900...</td>\n",
       "      <td>New</td>\n",
       "      <td>Acer</td>\n",
       "      <td>Nitro</td>\n",
       "      <td>Intel Core i9</td>\n",
       "      <td>16</td>\n",
       "      <td>512</td>\n",
       "      <td>SSD</td>\n",
       "      <td>RTX 3060</td>\n",
       "      <td>17.3</td>\n",
       "      <td>No</td>\n",
       "      <td>1495.69</td>\n",
       "    </tr>\n",
       "  </tbody>\n",
       "</table>\n",
       "</div>"
      ],
      "text/plain": [
       "                                                Laptop Status Brand  Model  \\\n",
       "998  Acer Nitro 5 AN517-54-9875 Intel Core i9-11900...    New  Acer  Nitro   \n",
       "\n",
       "               CPU  RAM  Storage Storage type       GPU  Screen Touch  \\\n",
       "998  Intel Core i9   16      512          SSD  RTX 3060    17.3    No   \n",
       "\n",
       "     Final Price  \n",
       "998      1495.69  "
      ]
     },
     "execution_count": 39,
     "metadata": {},
     "output_type": "execute_result"
    }
   ],
   "source": [
    "#Question 9. Which laptop has the best price-to-performance ratio, considering both the CPU and GPU?\n",
    "price_performance_df = df[df[\"CPU\"]==\"Intel Core i9\"]\n",
    "price_performance_df = price_performance_df[(price_performance_df[\"GPU\"].isnull()== False) & (price_performance_df[\"Status\"] == \"New\")]\n",
    "min_price = price_performance_df[\"Final Price\"].min()\n",
    "price_performance_df = price_performance_df[price_performance_df[\"Final Price\"] == min_price]\n",
    "price_performance_df"
   ]
  },
  {
   "cell_type": "code",
   "execution_count": 38,
   "id": "85a99782-24f0-489b-b8c7-747f8c57dc89",
   "metadata": {},
   "outputs": [
    {
     "data": {
      "text/html": [
       "<div>\n",
       "<style scoped>\n",
       "    .dataframe tbody tr th:only-of-type {\n",
       "        vertical-align: middle;\n",
       "    }\n",
       "\n",
       "    .dataframe tbody tr th {\n",
       "        vertical-align: top;\n",
       "    }\n",
       "\n",
       "    .dataframe thead th {\n",
       "        text-align: right;\n",
       "    }\n",
       "</style>\n",
       "<table border=\"1\" class=\"dataframe\">\n",
       "  <thead>\n",
       "    <tr style=\"text-align: right;\">\n",
       "      <th></th>\n",
       "      <th>Laptop</th>\n",
       "      <th>Status</th>\n",
       "      <th>Brand</th>\n",
       "      <th>Model</th>\n",
       "      <th>CPU</th>\n",
       "      <th>RAM</th>\n",
       "      <th>Storage</th>\n",
       "      <th>Storage type</th>\n",
       "      <th>GPU</th>\n",
       "      <th>Screen</th>\n",
       "      <th>Touch</th>\n",
       "      <th>Final Price</th>\n",
       "    </tr>\n",
       "  </thead>\n",
       "  <tbody>\n",
       "    <tr>\n",
       "      <th>711</th>\n",
       "      <td>ASUS TUF Gaming F15 TUF507ZC4-HN040 Intel Core...</td>\n",
       "      <td>New</td>\n",
       "      <td>Asus</td>\n",
       "      <td>TUF</td>\n",
       "      <td>Intel Core i7</td>\n",
       "      <td>16</td>\n",
       "      <td>512</td>\n",
       "      <td>SSD</td>\n",
       "      <td>RTX 3050</td>\n",
       "      <td>15.6</td>\n",
       "      <td>No</td>\n",
       "      <td>909.99</td>\n",
       "    </tr>\n",
       "  </tbody>\n",
       "</table>\n",
       "</div>"
      ],
      "text/plain": [
       "                                                Laptop Status Brand Model  \\\n",
       "711  ASUS TUF Gaming F15 TUF507ZC4-HN040 Intel Core...    New  Asus   TUF   \n",
       "\n",
       "               CPU  RAM  Storage Storage type       GPU  Screen Touch  \\\n",
       "711  Intel Core i7   16      512          SSD  RTX 3050    15.6    No   \n",
       "\n",
       "     Final Price  \n",
       "711       909.99  "
      ]
     },
     "execution_count": 38,
     "metadata": {},
     "output_type": "execute_result"
    }
   ],
   "source": [
    "price_performance_df = df[df[\"CPU\"]==\"Intel Core i7\"]\n",
    "price_performance_df = price_performance_df[(price_performance_df[\"GPU\"].isnull()== False) & (price_performance_df[\"Status\"] == \"New\")]\n",
    "min_price = price_performance_df[\"Final Price\"].min()\n",
    "price_performance_df = price_performance_df[price_performance_df[\"Final Price\"] == min_price]\n",
    "price_performance_df"
   ]
  },
  {
   "cell_type": "code",
   "execution_count": 6,
   "id": "73f06c19-337c-4e96-8f63-5872be6d8506",
   "metadata": {},
   "outputs": [
    {
     "name": "stdout",
     "output_type": "stream",
     "text": [
      "The average price of laptops with Intel Core i5 processor is $888.38\n"
     ]
    }
   ],
   "source": [
    "#Question 10. What is the average price of laptops with an Intel Core i5 processor?\n",
    "\n",
    "# Filter the DataFrame to include only rows with Intel Core i5 processor and ensure that case  is insensitive.\n",
    "i5_laptops = df[df['CPU'].str.contains('Intel Core i5', case=False, na=False)]\n",
    "\n",
    "# Calculate the average price of laptops with Intel Core i5 processor\n",
    "average_price_i5 = i5_laptops['Final Price'].mean()\n",
    "\n",
    "print(f\"The average price of laptops with Intel Core i5 processor is ${average_price_i5:.2f}\")\n"
   ]
  },
  {
   "cell_type": "code",
   "execution_count": 18,
   "id": "9c2dfe29-794a-45f5-a1af-cacacc778c3a",
   "metadata": {},
   "outputs": [
    {
     "name": "stdout",
     "output_type": "stream",
     "text": [
      "The number of laptops with a screen size of 15.6 inches is 1009.\n"
     ]
    }
   ],
   "source": [
    "#Question 11. How many laptops have a screen size of 15.6 inches?\n",
    "\n",
    "#Remember that data is float\n",
    "screen_size = df['Screen'].value_counts().get(15.6, 0)\n",
    "print(f\"The number of laptops with a screen size of 15.6 inches is {screen_size}.\")"
   ]
  },
  {
   "cell_type": "code",
   "execution_count": 40,
   "id": "ee625a31-e974-4528-89ab-35f6694ff5bf",
   "metadata": {},
   "outputs": [
    {
     "name": "stdout",
     "output_type": "stream",
     "text": [
      "The brand with the highest average price among laptops with touchscreens is MSI.\n",
      "The average price for laptops from this brand is $2,697.43.\n"
     ]
    }
   ],
   "source": [
    "#Question 12. Among the laptops with touchscreens, which brand has the highest average price?\n",
    "\n",
    "#Filter laptops with touchscreens\n",
    "touchscreen_laptops = df[df['Touch'] == 'Yes']\n",
    "\n",
    "#Group by brand and calculate the average price\n",
    "average_price_by_brand = touchscreen_laptops.groupby('Brand')['Final Price'].mean()\n",
    "\n",
    "#Find the brand with the highest average price\n",
    "highest_average_price_brand = average_price_by_brand.idxmax()\n",
    "highest_average_price = average_price_by_brand.max()\n",
    "\n",
    "print(f\"The brand with the highest average price among laptops with touchscreens is {highest_average_price_brand}.\")\n",
    "print(f\"The average price for laptops from this brand is ${highest_average_price:,.2f}.\")\n"
   ]
  },
  {
   "cell_type": "code",
   "execution_count": 11,
   "id": "011864ec-960c-442d-8c9e-883effcd760e",
   "metadata": {},
   "outputs": [
    {
     "name": "stdout",
     "output_type": "stream",
     "text": [
      "[nan 'RTX 3050' 'RTX 4060' 'RTX 4050' 'RTX 3060' 'RTX 4070' 'RTX 2050'\n",
      " 'GTX 1650' 'RTX 3070' '610 M' 'RTX 4080' 'RX 6500M' 'MX 550' 'RTX 3080'\n",
      " 'RTX 4090' 'RX 7600S' 'A 370M' 'GTX 1660' 'RTX A1000' 'RTX 3000' 'T 1200'\n",
      " 'Radeon Pro 5300M' 'A 730M' 'Radeon Pro RX 560X' 'RTX A5500'\n",
      " 'Radeon Pro 5500M' 'T 500' 'T 550' 'RTX A3000' 'T 2000' 'T 600' 'T 1000'\n",
      " 'Radeon RX 6600M' 'MX 330' 'RTX A2000' 'MX 450' 'RTX 2070' 'RX 6800S'\n",
      " 'RTX 2080' 'RTX 2060' 'GTX 1050' 'MX 130' 'P 500' 'RX 6700M' 'GTX 1070']\n",
      "The price range for laptops with an NVIDIA RTX 3050 graphics card is $666.69 to $3999.0.\n"
     ]
    }
   ],
   "source": [
    "#Question 13 What is the price range for laptops with an NVIDIA RTX 3050 graphics card?\n",
    "\n",
    "#check the unique values\n",
    "unique_gpu_values = df['GPU'].unique()\n",
    "print(unique_gpu_values)\n",
    "\n",
    "#price range for laptops with an NVIDIA RTX 3050 graphics card\n",
    "rtx_3050_laptops = df[df['GPU'] == 'RTX 3050']\n",
    "price_range_rtx_3050 = (rtx_3050_laptops['Final Price'].min(), rtx_3050_laptops['Final Price'].max())\n",
    "\n",
    "print(f\"The price range for laptops with an NVIDIA RTX 3050 graphics card is ${price_range_rtx_3050[0]} to ${price_range_rtx_3050[1]}.\")\n"
   ]
  },
  {
   "cell_type": "code",
   "execution_count": 12,
   "id": "4e716eac-af5d-4011-96a0-60cad75c46b6",
   "metadata": {},
   "outputs": [
    {
     "name": "stdout",
     "output_type": "stream",
     "text": [
      "The average RAM capacity for laptops in the dataset is 15.41 GB.\n"
     ]
    }
   ],
   "source": [
    "#Question 14. What is the average RAM capacity for laptops in the dataset?\n",
    "\n",
    "average_ram_capacity = df['RAM'].mean()\n",
    "print(f\"The average RAM capacity for laptops in the dataset is {average_ram_capacity:.2f} GB.\")\n"
   ]
  },
  {
   "cell_type": "code",
   "execution_count": 41,
   "id": "a835bb51-4967-442c-bd0b-5fd0c8065b80",
   "metadata": {},
   "outputs": [
    {
     "name": "stdout",
     "output_type": "stream",
     "text": [
      "The model with the highest RAM capacity among laptops with an AMD Ryzen processor is ROG.\n"
     ]
    }
   ],
   "source": [
    "#Question 15. Among the laptops with an AMD Ryzen processor, which model has the highest RAM capacity?\n",
    "\n",
    "ryzen_laptops = df[df['CPU'].str.contains('AMD Ryzen', case=False, na=False)]\n",
    "max_ram_model = ryzen_laptops.loc[ryzen_laptops['RAM'].idxmax()]['Model']\n",
    "\n",
    "print(f\"The model with the highest RAM capacity among laptops with an AMD Ryzen processor is {max_ram_model}.\")"
   ]
  }
 ],
 "metadata": {
  "kernelspec": {
   "display_name": "Python 3 (ipykernel)",
   "language": "python",
   "name": "python3"
  },
  "language_info": {
   "codemirror_mode": {
    "name": "ipython",
    "version": 3
   },
   "file_extension": ".py",
   "mimetype": "text/x-python",
   "name": "python",
   "nbconvert_exporter": "python",
   "pygments_lexer": "ipython3",
   "version": "3.9.2"
  }
 },
 "nbformat": 4,
 "nbformat_minor": 5
}
